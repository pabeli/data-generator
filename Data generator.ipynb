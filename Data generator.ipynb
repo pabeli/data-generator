{
 "cells": [
  {
   "cell_type": "code",
   "execution_count": 2,
   "metadata": {},
   "outputs": [],
   "source": [
    "from faker import Faker\n",
    "\n",
    "fake = Faker() #To initialize a faker generator"
   ]
  },
  {
   "cell_type": "markdown",
   "metadata": {},
   "source": [
    "The faker generator can generate data by accessing properties named after the type of data you want"
   ]
  },
  {
   "cell_type": "code",
   "execution_count": 2,
   "metadata": {},
   "outputs": [
    {
     "name": "stdout",
     "output_type": "stream",
     "text": [
      "The name is  Samantha Allen . The address is:  9410 Evan Trail Suite 051\n",
      "South Danielfort, MO 60568\n"
     ]
    }
   ],
   "source": [
    "name=fake.name()\n",
    "address=fake.address()\n",
    "\n",
    "print(\"The name is \", name, \". The address is: \", address)"
   ]
  },
  {
   "cell_type": "code",
   "execution_count": 10,
   "metadata": {},
   "outputs": [
    {
     "name": "stdout",
     "output_type": "stream",
     "text": [
      "The name of the company is:  Mcguire Inc\n"
     ]
    }
   ],
   "source": [
    "company = fake.company()\n",
    "\n",
    "print(\"The name of the company is: \", company)"
   ]
  },
  {
   "cell_type": "code",
   "execution_count": 11,
   "metadata": {},
   "outputs": [
    {
     "name": "stdout",
     "output_type": "stream",
     "text": [
      "The phone number is:  (194)796-0182x73976\n"
     ]
    }
   ],
   "source": [
    "phone = fake.phone_number()\n",
    "\n",
    "print(\"The phone number is: \", phone)"
   ]
  },
  {
   "cell_type": "code",
   "execution_count": 18,
   "metadata": {},
   "outputs": [
    {
     "name": "stdout",
     "output_type": "stream",
     "text": [
      "The email address is:  jacobstewart@gmail.com\n"
     ]
    }
   ],
   "source": [
    "email = fake.email()\n",
    "\n",
    "print(\"The email address is: \", email)"
   ]
  },
  {
   "cell_type": "code",
   "execution_count": 9,
   "metadata": {},
   "outputs": [
    {
     "name": "stdout",
     "output_type": "stream",
     "text": [
      "The color is:  #128c51\n"
     ]
    }
   ],
   "source": [
    "color = fake.color()\n",
    "\n",
    "print(\"The color is: \", color)"
   ]
  },
  {
   "cell_type": "markdown",
   "metadata": {},
   "source": [
    "# Creating a JSON"
   ]
  },
  {
   "cell_type": "code",
   "execution_count": 4,
   "metadata": {},
   "outputs": [],
   "source": [
    "import json"
   ]
  },
  {
   "cell_type": "code",
   "execution_count": 11,
   "metadata": {},
   "outputs": [],
   "source": [
    "arr = []"
   ]
  },
  {
   "cell_type": "code",
   "execution_count": 24,
   "metadata": {},
   "outputs": [
    {
     "name": "stdout",
     "output_type": "stream",
     "text": [
      "[{\"id\": 0, \"name\": \"Jamie Walker\", \"phone\": \"+1-298-250-8581x15681\", \"email\": \"bennettmegan@costa.com\", \"company\": \"Howard-Merritt\"}, {\"id\": 0, \"name\": \"Mrs. Michelle Smith\", \"phone\": \"119-725-7408\", \"email\": \"paul35@gmail.com\", \"company\": \"Davis, Taylor and Wright\"}, {\"id\": 0, \"name\": \"Nancy Sparks\", \"phone\": \"(288)834-3128x9987\", \"email\": \"donna27@hotmail.com\", \"company\": \"Hall, Davis and Bell\"}, {\"id\": 0, \"name\": \"Alice Mora\", \"phone\": \"324-098-6768x561\", \"email\": \"sarah79@evans-gross.info\", \"company\": \"Wagner Inc\"}, {\"id\": 0, \"name\": \"Mary Cooper\", \"phone\": \"330.001.0028\", \"email\": \"linda28@gmail.com\", \"company\": \"Carroll and Sons\"}]\n"
     ]
    }
   ],
   "source": [
    "i=0\n",
    "element = {\n",
    "    \"id\": i,\n",
    "    \"name\": fake.name(),\n",
    "    \"phone\": fake.phone_number(),\n",
    "    \"email\": fake.email(),\n",
    "    \"company\": fake.company()\n",
    "}\n",
    "second_element = {\n",
    "    \"id\": i,\n",
    "    \"name\": fake.name(),\n",
    "    \"phone\": fake.phone_number(),\n",
    "    \"email\": fake.email(),\n",
    "    \"company\": fake.company()\n",
    "}\n",
    "arr.append(element)\n",
    "arr.append(second_element)\n",
    "to_json = json.dumps(arr)\n",
    "\n",
    "print(to_json)"
   ]
  },
  {
   "cell_type": "code",
   "execution_count": 12,
   "metadata": {},
   "outputs": [],
   "source": [
    "result = []\n",
    "\n",
    "i = 1\n",
    "\n",
    "for _ in range(100):\n",
    "    element = {\n",
    "        \"id\": i, \n",
    "        \"name\": fake.name(),\n",
    "        \"color\": fake.color(),\n",
    "    }\n",
    "    \n",
    "    result.append(element)\n",
    "    \n",
    "    i+=1\n",
    "    \n",
    "to_json=json.dumps(result)\n",
    "\n",
    "with open(\"data.json\", \"w\") as outfile:\n",
    "    outfile.write(to_json)"
   ]
  },
  {
   "cell_type": "code",
   "execution_count": 35,
   "metadata": {},
   "outputs": [],
   "source": [
    "result.clear()"
   ]
  },
  {
   "cell_type": "code",
   "execution_count": 13,
   "metadata": {},
   "outputs": [],
   "source": [
    "with open(\"sample.json\", \"w\") as outfile: \n",
    "    outfile.write(to_json)"
   ]
  },
  {
   "cell_type": "markdown",
   "metadata": {},
   "source": [
    "## 100 columns"
   ]
  },
  {
   "cell_type": "code",
   "execution_count": 22,
   "metadata": {},
   "outputs": [],
   "source": [
    "i=1\n",
    "result = []\n",
    "\n",
    "element = {\n",
    "        \"id\": i, \n",
    "        \"name\": fake.name(),\n",
    "        \"color\": fake.color(),\n",
    "    }\n",
    "i=1\n",
    "name=\"color_\"+str(i)\n",
    "\n",
    "element[name]=fake.color()"
   ]
  },
  {
   "cell_type": "code",
   "execution_count": 31,
   "metadata": {},
   "outputs": [],
   "source": [
    "i=1\n",
    "\n",
    "j=1\n",
    "\n",
    "result=[]\n",
    "\n",
    "for _ in range(100):\n",
    "    element = {\n",
    "        \"id\": j, \n",
    "        \"name\": fake.name(),\n",
    "        \"color\": fake.color(),\n",
    "    }\n",
    "    for _ in range(97):\n",
    "        name=\"color_\"+str(i)\n",
    "        element[name]=fake.color()\n",
    "        i+=1\n",
    "    result.append(element)\n",
    "    j+=1\n",
    "\n",
    "\n",
    "to_json=json.dumps(result)\n",
    "\n",
    "with open(\"data.json\", \"w\") as outfile:\n",
    "    outfile.write(to_json)"
   ]
  },
  {
   "cell_type": "code",
   "execution_count": null,
   "metadata": {},
   "outputs": [],
   "source": []
  }
 ],
 "metadata": {
  "kernelspec": {
   "display_name": "Python 3",
   "language": "python",
   "name": "python3"
  },
  "language_info": {
   "codemirror_mode": {
    "name": "ipython",
    "version": 3
   },
   "file_extension": ".py",
   "mimetype": "text/x-python",
   "name": "python",
   "nbconvert_exporter": "python",
   "pygments_lexer": "ipython3",
   "version": "3.8.3"
  }
 },
 "nbformat": 4,
 "nbformat_minor": 4
}
